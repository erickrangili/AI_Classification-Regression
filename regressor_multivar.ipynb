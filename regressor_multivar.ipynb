{
 "cells": [
  {
   "cell_type": "code",
   "execution_count": 10,
   "metadata": {},
   "outputs": [
    {
     "name": "stdout",
     "output_type": "stream",
     "text": [
      "Linear Regressor performance:\n",
      "Mean absolute error = 3.58\n",
      "Mean squared error = 20.31\n",
      "Median absolute error = 2.99\n",
      "Explained variance score = 0.86\n",
      "R2 score = 0.86\n",
      "\n",
      "Linear regression:\n",
      " [36.05286276]\n",
      "\n",
      "Polynomial regression:\n",
      " [41.45173279]\n"
     ]
    }
   ],
   "source": [
    "import numpy as np\n",
    "from sklearn import linear_model\n",
    "import sklearn.metrics as sm\n",
    "from sklearn.preprocessing import PolynomialFeatures\n",
    "\n",
    "# Input file containing data\n",
    "input_file = 'data_multivar_regr.txt'\n",
    "\n",
    "# Load the data from the input file\n",
    "data = np.loadtxt(input_file, delimiter=',')\n",
    "X, y = data[:, :-1], data[:, -1]\n",
    "\n",
    "# Split data into training and testing\n",
    "num_training = int(0.8 * len(X))\n",
    "num_test = len(X) - num_training\n",
    "\n",
    "# Training data\n",
    "X_train, y_train = X[:num_training], y[:num_training]\n",
    "\n",
    "# Test data\n",
    "X_test, y_test = X[num_training:], y[num_training:]\n",
    "\n",
    "# Create the linear regressor model\n",
    "linear_regressor = linear_model.LinearRegression()\n",
    "\n",
    "# Train the model using the training sets\n",
    "linear_regressor.fit(X_train, y_train)\n",
    "\n",
    "# Predict the output\n",
    "y_test_pred = linear_regressor.predict(X_test)\n",
    "\n",
    "# Measure performance\n",
    "print(\"Linear Regressor performance:\")\n",
    "print(\"Mean absolute error =\", round(sm.mean_absolute_error(y_test,y_test_pred), 2))\n",
    "print(\"Mean squared error =\", round(sm.mean_squared_error(y_test,y_test_pred), 2))\n",
    "print(\"Median absolute error =\", round(sm.median_absolute_error(y_test,y_test_pred), 2))\n",
    "print(\"Explained variance score =\",round(sm.explained_variance_score(y_test, y_test_pred), 2))\n",
    "print(\"R2 score =\", round(sm.r2_score(y_test, y_test_pred), 2))\n",
    "\n",
    "# Create a polynomial regressor of degree 10. Train the regressor on the training dataset. Let's\n",
    "# take a sample data point and see how to perform prediction. The first step is to transform it\n",
    "# into a polynomial:\n",
    "\n",
    "# Polynomial regression\n",
    "polynomial = PolynomialFeatures(degree=10)\n",
    "X_train_transformed = polynomial.fit_transform(X_train)\n",
    "datapoint = [[7.75, 6.35, 5.56]]\n",
    "poly_datapoint = polynomial.fit_transform(datapoint)\n",
    "\n",
    "\n",
    "# If you look closely, this data point is very close to the data point on line 11 in our data file,\n",
    "# which is [7.66, 6.29, 5.66]. So, a good regressor should predict an output that's close to 41.35.\n",
    "# Create a linear regressor object and perform the polynomial fit. Perform the prediction\n",
    "# using both linear and polynomial regressors to see the difference:\n",
    "\n",
    "poly_linear_model = linear_model.LinearRegression()\n",
    "poly_linear_model.fit(X_train_transformed, y_train)\n",
    "print(\"\\nLinear regression:\\n\", linear_regressor.predict(datapoint))\n",
    "print(\"\\nPolynomial regression:\\n\",poly_linear_model.predict(poly_datapoint))"
   ]
  },
  {
   "cell_type": "code",
   "execution_count": null,
   "metadata": {},
   "outputs": [],
   "source": []
  }
 ],
 "metadata": {
  "kernelspec": {
   "display_name": "Python 3",
   "language": "python",
   "name": "python3"
  },
  "language_info": {
   "codemirror_mode": {
    "name": "ipython",
    "version": 3
   },
   "file_extension": ".py",
   "mimetype": "text/x-python",
   "name": "python",
   "nbconvert_exporter": "python",
   "pygments_lexer": "ipython3",
   "version": "3.7.4"
  }
 },
 "nbformat": 4,
 "nbformat_minor": 4
}
