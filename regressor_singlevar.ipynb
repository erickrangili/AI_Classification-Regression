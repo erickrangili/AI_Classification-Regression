{
 "cells": [
  {
   "cell_type": "code",
   "execution_count": 9,
   "metadata": {},
   "outputs": [
    {
     "data": {
      "image/png": "[encoded data removed]",
      "text/plain": [
       "<Figure size 432x288 with 1 Axes>"
      ]
     },
     "metadata": {},
     "output_type": "display_data"
    },
    {
     "name": "stdout",
     "output_type": "stream",
     "text": [
      "Linear regressor performance:\n",
      "Mean absolute error = 0.59\n",
      "Mean squared error = 0.49\n",
      "Median absolute error = 0.51\n",
      "Explain variance score = 0.86\n",
      "R2 score = 0.86\n"
     ]
    }
   ],
   "source": [
    "import pickle\n",
    "import numpy as np\n",
    "from sklearn import linear_model\n",
    "import sklearn.metrics as sm\n",
    "import matplotlib.pyplot as plt\n",
    "\n",
    "# Input file containing data\n",
    "input_file = 'data_singlevar_regr.txt'\n",
    "\n",
    "# It's a comma-separated file, so we can easily load it using a one-line function call:\n",
    "# Read data\n",
    "data = np.loadtxt(input_file, delimiter=',')\n",
    "X, y = data[:, :-1], data[:, -1]\n",
    "\n",
    "# split it into training and testing\n",
    "# Train and test split\n",
    "num_training = int(0.8 * len(X))\n",
    "num_test = len(X) - num_training\n",
    "\n",
    "# Training data\n",
    "X_train, y_train = X[:num_training], y[:num_training]\n",
    "\n",
    "# Test data\n",
    "X_test, y_test = X[num_training:], y[num_training:]\n",
    "\n",
    "# create a linear regressor object and train it using the training data\n",
    "# Create linear regressor object\n",
    "regressor = linear_model.LinearRegression()\n",
    "\n",
    "# Train the model using the training sets\n",
    "regressor.fit(X_train, y_train)\n",
    "\n",
    "# Predict the output\n",
    "y_test_pred = regressor.predict(X_test)\n",
    "\n",
    "# Plot outputs\n",
    "plt.scatter(X_test, y_test, color='green')\n",
    "plt.plot(X_test, y_test_pred, color='black', linewidth=4)\n",
    "plt.xticks(())\n",
    "plt.yticks(())\n",
    "plt.show()\n",
    "\n",
    "# Compute the performance metrics for the regressor by comparing the ground truth, which\n",
    "# refers to the actual outputs, with the predicted outputs:\n",
    "# Compute performance metrics\n",
    "print(\"Linear regressor performance:\")\n",
    "print(\"Mean absolute error =\", round(sm.mean_absolute_error(y_test,y_test_pred), 2))\n",
    "\n",
    "print(\"Mean squared error =\", round(sm.mean_squared_error(y_test,y_test_pred), 2))\n",
    "\n",
    "print(\"Median absolute error =\", round(sm.median_absolute_error(y_test,y_test_pred), 2))\n",
    "\n",
    "print(\"Explain variance score =\", round(sm.explained_variance_score(y_test,y_test_pred), 2))\n",
    "\n",
    "print(\"R2 score =\", round(sm.r2_score(y_test, y_test_pred), 2))\n",
    "\n",
    "# Once the model has been created, we can save it into a file so that we can use it later. Python\n",
    "# provides a nice module called pickle that enables us to do this:\n",
    "# Model persistence\n",
    "output_model_file = 'model.pkl'\n",
    "\n",
    "# Save the model\n",
    "with open(output_model_file, 'wb') as f:\n",
    "    pickle.dump(regressor, f)"
   ]
  },
  {
   "cell_type": "code",
   "execution_count": null,
   "metadata": {},
   "outputs": [],
   "source": [
    "# Let's load the model from the file on the disk and perform prediction:\n",
    "# Load the model\n",
    "with open(output_model_file, 'rb') as f:\n",
    "    regressor_model = pickle.load(f)\n",
    "    \n",
    "# Perform prediction on test data\n",
    "y_test_pred_new = regressor_model.predict(X_test)\n",
    "print(\"\\nNew mean absolute error =\", round(sm.mean_absolute_error(y_test,\n",
    "y_test_pred_new), 2))"
   ]
  },
  {
   "cell_type": "code",
   "execution_count": null,
   "metadata": {},
   "outputs": [],
   "source": []
  },
  {
   "cell_type": "code",
   "execution_count": null,
   "metadata": {},
   "outputs": [],
   "source": []
  },
  {
   "cell_type": "code",
   "execution_count": null,
   "metadata": {},
   "outputs": [],
   "source": []
  },
  {
   "cell_type": "code",
   "execution_count": null,
   "metadata": {},
   "outputs": [],
   "source": []
  },
  {
   "cell_type": "code",
   "execution_count": null,
   "metadata": {},
   "outputs": [],
   "source": []
  },
  {
   "cell_type": "code",
   "execution_count": null,
   "metadata": {},
   "outputs": [],
   "source": []
  },
  {
   "cell_type": "code",
   "execution_count": null,
   "metadata": {},
   "outputs": [],
   "source": []
  },
  {
   "cell_type": "code",
   "execution_count": null,
   "metadata": {},
   "outputs": [],
   "source": []
  }
 ],
 "metadata": {
  "kernelspec": {
   "display_name": "Python 3",
   "language": "python",
   "name": "python3"
  },
  "language_info": {
   "codemirror_mode": {
    "name": "ipython",
    "version": 3
   },
   "file_extension": ".py",
   "mimetype": "text/x-python",
   "name": "python",
   "nbconvert_exporter": "python",
   "pygments_lexer": "ipython3",
   "version": "3.7.4"
  }
 },
 "nbformat": 4,
 "nbformat_minor": 4
}
