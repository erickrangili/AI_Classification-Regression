{
 "cells": [
  {
   "cell_type": "code",
   "execution_count": 3,
   "metadata": {},
   "outputs": [],
   "source": [
    "import numpy as np\n",
    "import matplotlib.pyplot as plt\n",
    "#define the function by taking the classifier object, input data and labels\n",
    "def visualize_classifier(classifier,X,y):\n",
    "    #define the minimum and maximum values for X and Y that will be used in the mesh grid\n",
    "    min_x, max_x = X[:, 0].min() - 1.0, X[:, 0].max() + 1.0\n",
    "    min_y, max_y = X[:, 0].min() - 1.0, X[:, 0].max() + 1.0\n",
    "    #define the stepsize that will be used in plotting the mesh grid\n",
    "    mesh_step_size = 0.01\n",
    "\n",
    "    #define the mesh grid of X and Y values\n",
    "    x_vals, y_vals = np.meshgrid(np.arange(min_x, max_x, mesh_step_size), np.arange(min_y, max_y, mesh_step_size))\n",
    "    \n",
    "    #run the classifier on all points on the grid\n",
    "    output = classifier.predict(np.c_[x_vals.ravel(), y_vals.ravel()])\n",
    "    \n",
    "    #reshape the output array\n",
    "    output = output.reshape(x_vals.shape)\n",
    "    \n",
    "    #create the figure,pick a color scheme and overlay all the points\n",
    "    #create the plot\n",
    "    plt.figure()\n",
    "    \n",
    "    #choose a color scheme for the plot\n",
    "    plt.pcolormesh(x_vals, y_vals, output, cmap = plt.cm.gray)\n",
    "    \n",
    "    #overlay the training points on the plot\n",
    "    plt.scatter(X[:, 0], X[:,1], c=y, s=75, edgecolors='black', linewidth=1,cmap=plt.cm.Paired)\n",
    "    \n",
    "    #Specify the boundaries of the plots using the minimum and maximum values, add the tick marks, and display the figure:\n",
    "    #specify the boundaries of the plot\n",
    "    plt.xlim(x_vals.min(), x_vals.max())\n",
    "    plt.ylim(y_vals.min(), y_vals.max())\n",
    "    \n",
    "    #specify the ticks on the x and y axes\n",
    "    plt.xticks((np.arange(int(X[:, 0].min() - 1), int(X[:, 0].max() + 1),1.0)))\n",
    "    plt.yticks((np.arange(int(X[:, 1].min() - 1), int(X[:, 1].max() + 1),1.0)))\n",
    "    \n",
    "    plt.show()\n",
    "    "
   ]
  },
  {
   "cell_type": "code",
   "execution_count": null,
   "metadata": {},
   "outputs": [],
   "source": []
  }
 ],
 "metadata": {
  "kernelspec": {
   "display_name": "Python 3",
   "language": "python",
   "name": "python3"
  },
  "language_info": {
   "codemirror_mode": {
    "name": "ipython",
    "version": 3
   },
   "file_extension": ".py",
   "mimetype": "text/x-python",
   "name": "python",
   "nbconvert_exporter": "python",
   "pygments_lexer": "ipython3",
   "version": "3.7.4"
  }
 },
 "nbformat": 4,
 "nbformat_minor": 4
}
